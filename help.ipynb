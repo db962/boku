{
 "cells": [
  {
   "cell_type": "code",
   "execution_count": 1,
   "metadata": {},
   "outputs": [],
   "source": [
    "import pandas as pd\n",
    "import numpy as np\n",
    "from sklearn.datasets import fetch_california_housing\n",
    "import datetime"
   ]
  },
  {
   "cell_type": "code",
   "execution_count": 2,
   "metadata": {},
   "outputs": [],
   "source": [
    "data = fetch_california_housing(as_frame=True)\n",
    "housing_data = data.frame\n",
    "housing_data = housing_data.sample(frac=0.05)"
   ]
  },
  {
   "cell_type": "code",
   "execution_count": 3,
   "metadata": {},
   "outputs": [
    {
     "data": {
      "text/plain": [
       "(1032, 9)"
      ]
     },
     "execution_count": 3,
     "metadata": {},
     "output_type": "execute_result"
    }
   ],
   "source": [
    "housing_data.shape"
   ]
  },
  {
   "cell_type": "code",
   "execution_count": 4,
   "metadata": {},
   "outputs": [
    {
     "data": {
      "text/html": [
       "<div>\n",
       "<style scoped>\n",
       "    .dataframe tbody tr th:only-of-type {\n",
       "        vertical-align: middle;\n",
       "    }\n",
       "\n",
       "    .dataframe tbody tr th {\n",
       "        vertical-align: top;\n",
       "    }\n",
       "\n",
       "    .dataframe thead th {\n",
       "        text-align: right;\n",
       "    }\n",
       "</style>\n",
       "<table border=\"1\" class=\"dataframe\">\n",
       "  <thead>\n",
       "    <tr style=\"text-align: right;\">\n",
       "      <th></th>\n",
       "      <th>MedInc</th>\n",
       "      <th>HouseAge</th>\n",
       "      <th>AveRooms</th>\n",
       "      <th>AveBedrms</th>\n",
       "      <th>Population</th>\n",
       "      <th>AveOccup</th>\n",
       "      <th>Latitude</th>\n",
       "      <th>Longitude</th>\n",
       "      <th>MedHouseVal</th>\n",
       "    </tr>\n",
       "  </thead>\n",
       "  <tbody>\n",
       "    <tr>\n",
       "      <th>8543</th>\n",
       "      <td>3.2049</td>\n",
       "      <td>25.0</td>\n",
       "      <td>4.530255</td>\n",
       "      <td>1.130573</td>\n",
       "      <td>1611.0</td>\n",
       "      <td>2.565287</td>\n",
       "      <td>33.88</td>\n",
       "      <td>-118.36</td>\n",
       "      <td>2.674</td>\n",
       "    </tr>\n",
       "    <tr>\n",
       "      <th>5449</th>\n",
       "      <td>3.9798</td>\n",
       "      <td>31.0</td>\n",
       "      <td>4.707317</td>\n",
       "      <td>1.112195</td>\n",
       "      <td>1002.0</td>\n",
       "      <td>2.443902</td>\n",
       "      <td>34.00</td>\n",
       "      <td>-118.42</td>\n",
       "      <td>4.586</td>\n",
       "    </tr>\n",
       "    <tr>\n",
       "      <th>790</th>\n",
       "      <td>3.8000</td>\n",
       "      <td>36.0</td>\n",
       "      <td>5.403226</td>\n",
       "      <td>0.987903</td>\n",
       "      <td>789.0</td>\n",
       "      <td>3.181452</td>\n",
       "      <td>37.64</td>\n",
       "      <td>-122.08</td>\n",
       "      <td>1.720</td>\n",
       "    </tr>\n",
       "    <tr>\n",
       "      <th>3417</th>\n",
       "      <td>4.1250</td>\n",
       "      <td>29.0</td>\n",
       "      <td>4.778195</td>\n",
       "      <td>1.022556</td>\n",
       "      <td>1338.0</td>\n",
       "      <td>5.030075</td>\n",
       "      <td>34.28</td>\n",
       "      <td>-118.42</td>\n",
       "      <td>1.500</td>\n",
       "    </tr>\n",
       "    <tr>\n",
       "      <th>9146</th>\n",
       "      <td>6.0097</td>\n",
       "      <td>25.0</td>\n",
       "      <td>5.972222</td>\n",
       "      <td>0.879630</td>\n",
       "      <td>689.0</td>\n",
       "      <td>3.189815</td>\n",
       "      <td>34.45</td>\n",
       "      <td>-118.50</td>\n",
       "      <td>2.202</td>\n",
       "    </tr>\n",
       "  </tbody>\n",
       "</table>\n",
       "</div>"
      ],
      "text/plain": [
       "      MedInc  HouseAge  AveRooms  AveBedrms  Population  AveOccup  Latitude  \\\n",
       "8543  3.2049      25.0  4.530255   1.130573      1611.0  2.565287     33.88   \n",
       "5449  3.9798      31.0  4.707317   1.112195      1002.0  2.443902     34.00   \n",
       "790   3.8000      36.0  5.403226   0.987903       789.0  3.181452     37.64   \n",
       "3417  4.1250      29.0  4.778195   1.022556      1338.0  5.030075     34.28   \n",
       "9146  6.0097      25.0  5.972222   0.879630       689.0  3.189815     34.45   \n",
       "\n",
       "      Longitude  MedHouseVal  \n",
       "8543    -118.36        2.674  \n",
       "5449    -118.42        4.586  \n",
       "790     -122.08        1.720  \n",
       "3417    -118.42        1.500  \n",
       "9146    -118.50        2.202  "
      ]
     },
     "execution_count": 4,
     "metadata": {},
     "output_type": "execute_result"
    }
   ],
   "source": [
    "housing_data.head()"
   ]
  },
  {
   "cell_type": "code",
   "execution_count": 5,
   "metadata": {},
   "outputs": [],
   "source": [
    "housing_data.to_csv('data/raw/housing_data_raw.csv', encoding = 'utf-8-sig', index = False)"
   ]
  },
  {
   "cell_type": "code",
   "execution_count": 6,
   "metadata": {},
   "outputs": [],
   "source": [
    "housing_data.rename(columns={'MedHouseVal': 'target'}, inplace=True)\n",
    "housing_data['prediction'] = housing_data['target'].values + np.random.normal(0, 5, housing_data.shape[0])"
   ]
  },
  {
   "cell_type": "code",
   "execution_count": 7,
   "metadata": {},
   "outputs": [],
   "source": [
    "housing_data.to_csv('data/transform/housing_data_clean.csv', encoding = 'utf-8-sig', index = False)"
   ]
  }
 ],
 "metadata": {
  "kernelspec": {
   "display_name": "Python 3",
   "language": "python",
   "name": "python3"
  },
  "language_info": {
   "codemirror_mode": {
    "name": "ipython",
    "version": 3
   },
   "file_extension": ".py",
   "mimetype": "text/x-python",
   "name": "python",
   "nbconvert_exporter": "python",
   "pygments_lexer": "ipython3",
   "version": "3.12.1"
  }
 },
 "nbformat": 4,
 "nbformat_minor": 2
}
