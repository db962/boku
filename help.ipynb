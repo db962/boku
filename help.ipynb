{
 "cells": [
  {
   "cell_type": "code",
   "execution_count": 59,
   "metadata": {},
   "outputs": [],
   "source": [
    "import pandas as pd\n",
    "import numpy as np\n",
    "from sklearn.datasets import fetch_california_housing\n",
    "import datetime"
   ]
  },
  {
   "cell_type": "code",
   "execution_count": 60,
   "metadata": {},
   "outputs": [],
   "source": [
    "data = fetch_california_housing(as_frame=True)\n",
    "housing_data = data.frame\n",
    "housing_data = housing_data.sample(frac=0.05)"
   ]
  },
  {
   "cell_type": "code",
   "execution_count": 61,
   "metadata": {},
   "outputs": [
    {
     "data": {
      "text/plain": [
       "(1032, 9)"
      ]
     },
     "execution_count": 61,
     "metadata": {},
     "output_type": "execute_result"
    }
   ],
   "source": [
    "housing_data.shape"
   ]
  },
  {
   "cell_type": "code",
   "execution_count": 62,
   "metadata": {},
   "outputs": [
    {
     "data": {
      "text/html": [
       "<div>\n",
       "<style scoped>\n",
       "    .dataframe tbody tr th:only-of-type {\n",
       "        vertical-align: middle;\n",
       "    }\n",
       "\n",
       "    .dataframe tbody tr th {\n",
       "        vertical-align: top;\n",
       "    }\n",
       "\n",
       "    .dataframe thead th {\n",
       "        text-align: right;\n",
       "    }\n",
       "</style>\n",
       "<table border=\"1\" class=\"dataframe\">\n",
       "  <thead>\n",
       "    <tr style=\"text-align: right;\">\n",
       "      <th></th>\n",
       "      <th>MedInc</th>\n",
       "      <th>HouseAge</th>\n",
       "      <th>AveRooms</th>\n",
       "      <th>AveBedrms</th>\n",
       "      <th>Population</th>\n",
       "      <th>AveOccup</th>\n",
       "      <th>Latitude</th>\n",
       "      <th>Longitude</th>\n",
       "      <th>MedHouseVal</th>\n",
       "    </tr>\n",
       "  </thead>\n",
       "  <tbody>\n",
       "    <tr>\n",
       "      <th>2816</th>\n",
       "      <td>2.0575</td>\n",
       "      <td>21.0</td>\n",
       "      <td>4.901354</td>\n",
       "      <td>1.071567</td>\n",
       "      <td>1297.0</td>\n",
       "      <td>2.508704</td>\n",
       "      <td>35.41</td>\n",
       "      <td>-119.02</td>\n",
       "      <td>0.670</td>\n",
       "    </tr>\n",
       "    <tr>\n",
       "      <th>4349</th>\n",
       "      <td>7.1134</td>\n",
       "      <td>38.0</td>\n",
       "      <td>5.487342</td>\n",
       "      <td>1.103376</td>\n",
       "      <td>870.0</td>\n",
       "      <td>1.835443</td>\n",
       "      <td>34.11</td>\n",
       "      <td>-118.38</td>\n",
       "      <td>4.167</td>\n",
       "    </tr>\n",
       "    <tr>\n",
       "      <th>16527</th>\n",
       "      <td>5.0369</td>\n",
       "      <td>12.0</td>\n",
       "      <td>5.624233</td>\n",
       "      <td>0.981595</td>\n",
       "      <td>2173.0</td>\n",
       "      <td>3.332822</td>\n",
       "      <td>37.81</td>\n",
       "      <td>-121.21</td>\n",
       "      <td>1.639</td>\n",
       "    </tr>\n",
       "    <tr>\n",
       "      <th>620</th>\n",
       "      <td>2.8301</td>\n",
       "      <td>49.0</td>\n",
       "      <td>4.412987</td>\n",
       "      <td>1.059740</td>\n",
       "      <td>768.0</td>\n",
       "      <td>1.994805</td>\n",
       "      <td>37.73</td>\n",
       "      <td>-122.16</td>\n",
       "      <td>1.716</td>\n",
       "    </tr>\n",
       "    <tr>\n",
       "      <th>12197</th>\n",
       "      <td>3.2258</td>\n",
       "      <td>10.0</td>\n",
       "      <td>5.604651</td>\n",
       "      <td>1.112175</td>\n",
       "      <td>2082.0</td>\n",
       "      <td>2.848153</td>\n",
       "      <td>33.60</td>\n",
       "      <td>-117.36</td>\n",
       "      <td>1.593</td>\n",
       "    </tr>\n",
       "  </tbody>\n",
       "</table>\n",
       "</div>"
      ],
      "text/plain": [
       "       MedInc  HouseAge  AveRooms  AveBedrms  Population  AveOccup  Latitude  \\\n",
       "2816   2.0575      21.0  4.901354   1.071567      1297.0  2.508704     35.41   \n",
       "4349   7.1134      38.0  5.487342   1.103376       870.0  1.835443     34.11   \n",
       "16527  5.0369      12.0  5.624233   0.981595      2173.0  3.332822     37.81   \n",
       "620    2.8301      49.0  4.412987   1.059740       768.0  1.994805     37.73   \n",
       "12197  3.2258      10.0  5.604651   1.112175      2082.0  2.848153     33.60   \n",
       "\n",
       "       Longitude  MedHouseVal  \n",
       "2816     -119.02        0.670  \n",
       "4349     -118.38        4.167  \n",
       "16527    -121.21        1.639  \n",
       "620      -122.16        1.716  \n",
       "12197    -117.36        1.593  "
      ]
     },
     "execution_count": 62,
     "metadata": {},
     "output_type": "execute_result"
    }
   ],
   "source": [
    "housing_data.head()"
   ]
  },
  {
   "cell_type": "code",
   "execution_count": 63,
   "metadata": {},
   "outputs": [],
   "source": [
    "housing_data.to_csv('data/raw/housing_data_raw.csv', encoding = 'utf-8-sig', index = False)"
   ]
  },
  {
   "cell_type": "code",
   "execution_count": 64,
   "metadata": {},
   "outputs": [],
   "source": [
    "housing_data.rename(columns={'MedHouseVal': 'target'}, inplace=True)\n",
    "housing_data['prediction'] = housing_data['target'].values + np.random.normal(0, 5, housing_data.shape[0])"
   ]
  },
  {
   "cell_type": "code",
   "execution_count": 65,
   "metadata": {},
   "outputs": [],
   "source": [
    "housing_data.to_csv('data/transform/housing_data_clean.csv', encoding = 'utf-8-sig', index = False)"
   ]
  }
 ],
 "metadata": {
  "kernelspec": {
   "display_name": "Python 3",
   "language": "python",
   "name": "python3"
  },
  "language_info": {
   "codemirror_mode": {
    "name": "ipython",
    "version": 3
   },
   "file_extension": ".py",
   "mimetype": "text/x-python",
   "name": "python",
   "nbconvert_exporter": "python",
   "pygments_lexer": "ipython3",
   "version": "3.12.1"
  }
 },
 "nbformat": 4,
 "nbformat_minor": 2
}
