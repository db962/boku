{
 "cells": [
  {
   "cell_type": "code",
   "execution_count": 8,
   "metadata": {},
   "outputs": [],
   "source": [
    "import pandas as pd\n",
    "import numpy as np\n",
    "from sklearn.datasets import fetch_california_housing\n",
    "import datetime"
   ]
  },
  {
   "cell_type": "code",
   "execution_count": 9,
   "metadata": {},
   "outputs": [],
   "source": [
    "data = fetch_california_housing(as_frame=True)\n",
    "housing_data = data.frame\n",
    "housing_data = housing_data.sample(frac=0.05)"
   ]
  },
  {
   "cell_type": "code",
   "execution_count": 10,
   "metadata": {},
   "outputs": [
    {
     "data": {
      "text/plain": [
       "(1032, 9)"
      ]
     },
     "execution_count": 10,
     "metadata": {},
     "output_type": "execute_result"
    }
   ],
   "source": [
    "housing_data.shape"
   ]
  },
  {
   "cell_type": "code",
   "execution_count": 11,
   "metadata": {},
   "outputs": [
    {
     "data": {
      "text/html": [
       "<div>\n",
       "<style scoped>\n",
       "    .dataframe tbody tr th:only-of-type {\n",
       "        vertical-align: middle;\n",
       "    }\n",
       "\n",
       "    .dataframe tbody tr th {\n",
       "        vertical-align: top;\n",
       "    }\n",
       "\n",
       "    .dataframe thead th {\n",
       "        text-align: right;\n",
       "    }\n",
       "</style>\n",
       "<table border=\"1\" class=\"dataframe\">\n",
       "  <thead>\n",
       "    <tr style=\"text-align: right;\">\n",
       "      <th></th>\n",
       "      <th>MedInc</th>\n",
       "      <th>HouseAge</th>\n",
       "      <th>AveRooms</th>\n",
       "      <th>AveBedrms</th>\n",
       "      <th>Population</th>\n",
       "      <th>AveOccup</th>\n",
       "      <th>Latitude</th>\n",
       "      <th>Longitude</th>\n",
       "      <th>MedHouseVal</th>\n",
       "    </tr>\n",
       "  </thead>\n",
       "  <tbody>\n",
       "    <tr>\n",
       "      <th>3054</th>\n",
       "      <td>1.9362</td>\n",
       "      <td>33.0</td>\n",
       "      <td>4.210216</td>\n",
       "      <td>0.958743</td>\n",
       "      <td>1732.0</td>\n",
       "      <td>3.402750</td>\n",
       "      <td>35.60</td>\n",
       "      <td>-119.34</td>\n",
       "      <td>0.590</td>\n",
       "    </tr>\n",
       "    <tr>\n",
       "      <th>18829</th>\n",
       "      <td>2.7222</td>\n",
       "      <td>25.0</td>\n",
       "      <td>5.528302</td>\n",
       "      <td>1.254717</td>\n",
       "      <td>1117.0</td>\n",
       "      <td>2.634434</td>\n",
       "      <td>41.86</td>\n",
       "      <td>-123.26</td>\n",
       "      <td>0.646</td>\n",
       "    </tr>\n",
       "    <tr>\n",
       "      <th>19933</th>\n",
       "      <td>2.9698</td>\n",
       "      <td>15.0</td>\n",
       "      <td>6.029474</td>\n",
       "      <td>1.202105</td>\n",
       "      <td>1480.0</td>\n",
       "      <td>3.115789</td>\n",
       "      <td>36.30</td>\n",
       "      <td>-119.32</td>\n",
       "      <td>0.934</td>\n",
       "    </tr>\n",
       "    <tr>\n",
       "      <th>6027</th>\n",
       "      <td>2.8983</td>\n",
       "      <td>48.0</td>\n",
       "      <td>4.448905</td>\n",
       "      <td>1.093066</td>\n",
       "      <td>1508.0</td>\n",
       "      <td>2.751825</td>\n",
       "      <td>34.06</td>\n",
       "      <td>-117.74</td>\n",
       "      <td>1.292</td>\n",
       "    </tr>\n",
       "    <tr>\n",
       "      <th>9107</th>\n",
       "      <td>4.1573</td>\n",
       "      <td>19.0</td>\n",
       "      <td>6.162630</td>\n",
       "      <td>1.048443</td>\n",
       "      <td>1677.0</td>\n",
       "      <td>2.901384</td>\n",
       "      <td>34.63</td>\n",
       "      <td>-118.18</td>\n",
       "      <td>2.281</td>\n",
       "    </tr>\n",
       "  </tbody>\n",
       "</table>\n",
       "</div>"
      ],
      "text/plain": [
       "       MedInc  HouseAge  AveRooms  AveBedrms  Population  AveOccup  Latitude  \\\n",
       "3054   1.9362      33.0  4.210216   0.958743      1732.0  3.402750     35.60   \n",
       "18829  2.7222      25.0  5.528302   1.254717      1117.0  2.634434     41.86   \n",
       "19933  2.9698      15.0  6.029474   1.202105      1480.0  3.115789     36.30   \n",
       "6027   2.8983      48.0  4.448905   1.093066      1508.0  2.751825     34.06   \n",
       "9107   4.1573      19.0  6.162630   1.048443      1677.0  2.901384     34.63   \n",
       "\n",
       "       Longitude  MedHouseVal  \n",
       "3054     -119.34        0.590  \n",
       "18829    -123.26        0.646  \n",
       "19933    -119.32        0.934  \n",
       "6027     -117.74        1.292  \n",
       "9107     -118.18        2.281  "
      ]
     },
     "execution_count": 11,
     "metadata": {},
     "output_type": "execute_result"
    }
   ],
   "source": [
    "housing_data.head()"
   ]
  },
  {
   "cell_type": "code",
   "execution_count": 12,
   "metadata": {},
   "outputs": [],
   "source": [
    "housing_data.to_csv('data/raw/housing_data_raw.csv', encoding = 'utf-8-sig', index = False)"
   ]
  },
  {
   "cell_type": "code",
   "execution_count": 13,
   "metadata": {},
   "outputs": [],
   "source": [
    "housing_data.rename(columns={'MedHouseVal': 'target'}, inplace=True)\n",
    "housing_data['prediction'] = housing_data['target'].values + np.random.normal(0, 5, housing_data.shape[0])"
   ]
  },
  {
   "cell_type": "code",
   "execution_count": 14,
   "metadata": {},
   "outputs": [],
   "source": [
    "housing_data.to_csv('data/transform/housing_data_clean.csv', encoding = 'utf-8-sig', index = False)"
   ]
  }
 ],
 "metadata": {
  "kernelspec": {
   "display_name": "Python 3",
   "language": "python",
   "name": "python3"
  },
  "language_info": {
   "codemirror_mode": {
    "name": "ipython",
    "version": 3
   },
   "file_extension": ".py",
   "mimetype": "text/x-python",
   "name": "python",
   "nbconvert_exporter": "python",
   "pygments_lexer": "ipython3",
   "version": "3.12.1"
  }
 },
 "nbformat": 4,
 "nbformat_minor": 2
}
