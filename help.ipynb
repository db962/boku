{
 "cells": [
  {
   "cell_type": "code",
   "execution_count": 22,
   "metadata": {},
   "outputs": [],
   "source": [
    "import pandas as pd\n",
    "import numpy as np\n",
    "from sklearn.datasets import fetch_california_housing\n",
    "import datetime"
   ]
  },
  {
   "cell_type": "code",
   "execution_count": 23,
   "metadata": {},
   "outputs": [],
   "source": [
    "data = fetch_california_housing(as_frame=True)\n",
    "housing_data = data.frame\n",
    "housing_data = housing_data.sample(frac=0.05)"
   ]
  },
  {
   "cell_type": "code",
   "execution_count": 24,
   "metadata": {},
   "outputs": [
    {
     "data": {
      "text/plain": [
       "(1032, 9)"
      ]
     },
     "execution_count": 24,
     "metadata": {},
     "output_type": "execute_result"
    }
   ],
   "source": [
    "housing_data.shape"
   ]
  },
  {
   "cell_type": "code",
   "execution_count": 25,
   "metadata": {},
   "outputs": [
    {
     "data": {
      "text/html": [
       "<div>\n",
       "<style scoped>\n",
       "    .dataframe tbody tr th:only-of-type {\n",
       "        vertical-align: middle;\n",
       "    }\n",
       "\n",
       "    .dataframe tbody tr th {\n",
       "        vertical-align: top;\n",
       "    }\n",
       "\n",
       "    .dataframe thead th {\n",
       "        text-align: right;\n",
       "    }\n",
       "</style>\n",
       "<table border=\"1\" class=\"dataframe\">\n",
       "  <thead>\n",
       "    <tr style=\"text-align: right;\">\n",
       "      <th></th>\n",
       "      <th>MedInc</th>\n",
       "      <th>HouseAge</th>\n",
       "      <th>AveRooms</th>\n",
       "      <th>AveBedrms</th>\n",
       "      <th>Population</th>\n",
       "      <th>AveOccup</th>\n",
       "      <th>Latitude</th>\n",
       "      <th>Longitude</th>\n",
       "      <th>MedHouseVal</th>\n",
       "    </tr>\n",
       "  </thead>\n",
       "  <tbody>\n",
       "    <tr>\n",
       "      <th>4619</th>\n",
       "      <td>2.2364</td>\n",
       "      <td>28.0</td>\n",
       "      <td>2.642058</td>\n",
       "      <td>1.061521</td>\n",
       "      <td>2759.0</td>\n",
       "      <td>3.086130</td>\n",
       "      <td>34.07</td>\n",
       "      <td>-118.31</td>\n",
       "      <td>3.056</td>\n",
       "    </tr>\n",
       "    <tr>\n",
       "      <th>4487</th>\n",
       "      <td>1.6667</td>\n",
       "      <td>46.0</td>\n",
       "      <td>3.445902</td>\n",
       "      <td>0.990164</td>\n",
       "      <td>1435.0</td>\n",
       "      <td>4.704918</td>\n",
       "      <td>34.05</td>\n",
       "      <td>-118.19</td>\n",
       "      <td>1.336</td>\n",
       "    </tr>\n",
       "    <tr>\n",
       "      <th>13007</th>\n",
       "      <td>4.3625</td>\n",
       "      <td>29.0</td>\n",
       "      <td>6.247126</td>\n",
       "      <td>1.000000</td>\n",
       "      <td>430.0</td>\n",
       "      <td>2.471264</td>\n",
       "      <td>38.67</td>\n",
       "      <td>-121.28</td>\n",
       "      <td>1.588</td>\n",
       "    </tr>\n",
       "    <tr>\n",
       "      <th>8525</th>\n",
       "      <td>4.1953</td>\n",
       "      <td>39.0</td>\n",
       "      <td>5.266106</td>\n",
       "      <td>1.011204</td>\n",
       "      <td>982.0</td>\n",
       "      <td>2.750700</td>\n",
       "      <td>33.89</td>\n",
       "      <td>-118.33</td>\n",
       "      <td>2.269</td>\n",
       "    </tr>\n",
       "    <tr>\n",
       "      <th>12479</th>\n",
       "      <td>1.0313</td>\n",
       "      <td>20.0</td>\n",
       "      <td>2.436842</td>\n",
       "      <td>0.947368</td>\n",
       "      <td>486.0</td>\n",
       "      <td>2.557895</td>\n",
       "      <td>38.59</td>\n",
       "      <td>-121.49</td>\n",
       "      <td>0.850</td>\n",
       "    </tr>\n",
       "  </tbody>\n",
       "</table>\n",
       "</div>"
      ],
      "text/plain": [
       "       MedInc  HouseAge  AveRooms  AveBedrms  Population  AveOccup  Latitude  \\\n",
       "4619   2.2364      28.0  2.642058   1.061521      2759.0  3.086130     34.07   \n",
       "4487   1.6667      46.0  3.445902   0.990164      1435.0  4.704918     34.05   \n",
       "13007  4.3625      29.0  6.247126   1.000000       430.0  2.471264     38.67   \n",
       "8525   4.1953      39.0  5.266106   1.011204       982.0  2.750700     33.89   \n",
       "12479  1.0313      20.0  2.436842   0.947368       486.0  2.557895     38.59   \n",
       "\n",
       "       Longitude  MedHouseVal  \n",
       "4619     -118.31        3.056  \n",
       "4487     -118.19        1.336  \n",
       "13007    -121.28        1.588  \n",
       "8525     -118.33        2.269  \n",
       "12479    -121.49        0.850  "
      ]
     },
     "execution_count": 25,
     "metadata": {},
     "output_type": "execute_result"
    }
   ],
   "source": [
    "housing_data.head()"
   ]
  },
  {
   "cell_type": "code",
   "execution_count": 26,
   "metadata": {},
   "outputs": [],
   "source": [
    "housing_data.to_csv('data/raw/housing_data_raw.csv', encoding = 'utf-8-sig', index = False)"
   ]
  },
  {
   "cell_type": "code",
   "execution_count": 27,
   "metadata": {},
   "outputs": [],
   "source": [
    "housing_data.rename(columns={'MedHouseVal': 'target'}, inplace=True)\n",
    "housing_data['prediction'] = housing_data['target'].values + np.random.normal(0, 5, housing_data.shape[0])"
   ]
  },
  {
   "cell_type": "code",
   "execution_count": 28,
   "metadata": {},
   "outputs": [],
   "source": [
    "housing_data.to_csv('data/transform/housing_data_clean.csv', encoding = 'utf-8-sig', index = False)"
   ]
  }
 ],
 "metadata": {
  "kernelspec": {
   "display_name": "Python 3",
   "language": "python",
   "name": "python3"
  },
  "language_info": {
   "codemirror_mode": {
    "name": "ipython",
    "version": 3
   },
   "file_extension": ".py",
   "mimetype": "text/x-python",
   "name": "python",
   "nbconvert_exporter": "python",
   "pygments_lexer": "ipython3",
   "version": "3.12.1"
  }
 },
 "nbformat": 4,
 "nbformat_minor": 2
}
