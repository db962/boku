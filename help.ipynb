{
 "cells": [
  {
   "cell_type": "code",
   "execution_count": 38,
   "metadata": {},
   "outputs": [],
   "source": [
    "import pandas as pd\n",
    "import numpy as np\n",
    "from sklearn.datasets import fetch_california_housing\n",
    "import datetime"
   ]
  },
  {
   "cell_type": "code",
   "execution_count": 39,
   "metadata": {},
   "outputs": [],
   "source": [
    "data = fetch_california_housing(as_frame=True)\n",
    "housing_data = data.frame\n",
    "housing_data = housing_data.sample(frac=0.05)"
   ]
  },
  {
   "cell_type": "code",
   "execution_count": 40,
   "metadata": {},
   "outputs": [
    {
     "data": {
      "text/plain": [
       "(1032, 9)"
      ]
     },
     "execution_count": 40,
     "metadata": {},
     "output_type": "execute_result"
    }
   ],
   "source": [
    "housing_data.shape"
   ]
  },
  {
   "cell_type": "code",
   "execution_count": 41,
   "metadata": {},
   "outputs": [
    {
     "data": {
      "text/html": [
       "<div>\n",
       "<style scoped>\n",
       "    .dataframe tbody tr th:only-of-type {\n",
       "        vertical-align: middle;\n",
       "    }\n",
       "\n",
       "    .dataframe tbody tr th {\n",
       "        vertical-align: top;\n",
       "    }\n",
       "\n",
       "    .dataframe thead th {\n",
       "        text-align: right;\n",
       "    }\n",
       "</style>\n",
       "<table border=\"1\" class=\"dataframe\">\n",
       "  <thead>\n",
       "    <tr style=\"text-align: right;\">\n",
       "      <th></th>\n",
       "      <th>MedInc</th>\n",
       "      <th>HouseAge</th>\n",
       "      <th>AveRooms</th>\n",
       "      <th>AveBedrms</th>\n",
       "      <th>Population</th>\n",
       "      <th>AveOccup</th>\n",
       "      <th>Latitude</th>\n",
       "      <th>Longitude</th>\n",
       "      <th>MedHouseVal</th>\n",
       "    </tr>\n",
       "  </thead>\n",
       "  <tbody>\n",
       "    <tr>\n",
       "      <th>1507</th>\n",
       "      <td>4.4500</td>\n",
       "      <td>15.0</td>\n",
       "      <td>5.047219</td>\n",
       "      <td>1.036869</td>\n",
       "      <td>2957.0</td>\n",
       "      <td>1.912678</td>\n",
       "      <td>37.93</td>\n",
       "      <td>-122.05</td>\n",
       "      <td>1.849</td>\n",
       "    </tr>\n",
       "    <tr>\n",
       "      <th>8019</th>\n",
       "      <td>3.7813</td>\n",
       "      <td>36.0</td>\n",
       "      <td>6.634615</td>\n",
       "      <td>1.048077</td>\n",
       "      <td>316.0</td>\n",
       "      <td>3.038462</td>\n",
       "      <td>33.84</td>\n",
       "      <td>-118.10</td>\n",
       "      <td>2.091</td>\n",
       "    </tr>\n",
       "    <tr>\n",
       "      <th>368</th>\n",
       "      <td>2.9250</td>\n",
       "      <td>46.0</td>\n",
       "      <td>6.194805</td>\n",
       "      <td>1.045455</td>\n",
       "      <td>429.0</td>\n",
       "      <td>2.785714</td>\n",
       "      <td>37.75</td>\n",
       "      <td>-122.16</td>\n",
       "      <td>1.429</td>\n",
       "    </tr>\n",
       "    <tr>\n",
       "      <th>18545</th>\n",
       "      <td>4.4659</td>\n",
       "      <td>40.0</td>\n",
       "      <td>5.848039</td>\n",
       "      <td>1.112745</td>\n",
       "      <td>570.0</td>\n",
       "      <td>2.794118</td>\n",
       "      <td>36.97</td>\n",
       "      <td>-122.04</td>\n",
       "      <td>2.375</td>\n",
       "    </tr>\n",
       "    <tr>\n",
       "      <th>14153</th>\n",
       "      <td>6.1628</td>\n",
       "      <td>31.0</td>\n",
       "      <td>6.993464</td>\n",
       "      <td>1.013072</td>\n",
       "      <td>426.0</td>\n",
       "      <td>2.784314</td>\n",
       "      <td>32.77</td>\n",
       "      <td>-117.08</td>\n",
       "      <td>2.192</td>\n",
       "    </tr>\n",
       "  </tbody>\n",
       "</table>\n",
       "</div>"
      ],
      "text/plain": [
       "       MedInc  HouseAge  AveRooms  AveBedrms  Population  AveOccup  Latitude  \\\n",
       "1507   4.4500      15.0  5.047219   1.036869      2957.0  1.912678     37.93   \n",
       "8019   3.7813      36.0  6.634615   1.048077       316.0  3.038462     33.84   \n",
       "368    2.9250      46.0  6.194805   1.045455       429.0  2.785714     37.75   \n",
       "18545  4.4659      40.0  5.848039   1.112745       570.0  2.794118     36.97   \n",
       "14153  6.1628      31.0  6.993464   1.013072       426.0  2.784314     32.77   \n",
       "\n",
       "       Longitude  MedHouseVal  \n",
       "1507     -122.05        1.849  \n",
       "8019     -118.10        2.091  \n",
       "368      -122.16        1.429  \n",
       "18545    -122.04        2.375  \n",
       "14153    -117.08        2.192  "
      ]
     },
     "execution_count": 41,
     "metadata": {},
     "output_type": "execute_result"
    }
   ],
   "source": [
    "housing_data.head()"
   ]
  },
  {
   "cell_type": "code",
   "execution_count": 42,
   "metadata": {},
   "outputs": [],
   "source": [
    "housing_data.to_csv('data/raw/housing_data_raw.csv', encoding = 'utf-8-sig', index = False)"
   ]
  },
  {
   "cell_type": "code",
   "execution_count": 43,
   "metadata": {},
   "outputs": [],
   "source": [
    "housing_data.rename(columns={'MedHouseVal': 'target'}, inplace=True)\n",
    "housing_data['prediction'] = housing_data['target'].values + np.random.normal(0, 5, housing_data.shape[0])"
   ]
  },
  {
   "cell_type": "code",
   "execution_count": 44,
   "metadata": {},
   "outputs": [],
   "source": [
    "housing_data.to_csv('data/transform/housing_data_clean.csv', encoding = 'utf-8-sig', index = False)"
   ]
  }
 ],
 "metadata": {
  "kernelspec": {
   "display_name": "Python 3",
   "language": "python",
   "name": "python3"
  },
  "language_info": {
   "codemirror_mode": {
    "name": "ipython",
    "version": 3
   },
   "file_extension": ".py",
   "mimetype": "text/x-python",
   "name": "python",
   "nbconvert_exporter": "python",
   "pygments_lexer": "ipython3",
   "version": "3.12.1"
  }
 },
 "nbformat": 4,
 "nbformat_minor": 2
}
