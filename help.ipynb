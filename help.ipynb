{
 "cells": [
  {
   "cell_type": "code",
   "execution_count": 52,
   "metadata": {},
   "outputs": [],
   "source": [
    "import pandas as pd\n",
    "import numpy as np\n",
    "from sklearn.datasets import fetch_california_housing\n",
    "import datetime"
   ]
  },
  {
   "cell_type": "code",
   "execution_count": 53,
   "metadata": {},
   "outputs": [],
   "source": [
    "data = fetch_california_housing(as_frame=True)\n",
    "housing_data = data.frame\n",
    "housing_data = housing_data.sample(frac=0.05)"
   ]
  },
  {
   "cell_type": "code",
   "execution_count": 54,
   "metadata": {},
   "outputs": [
    {
     "data": {
      "text/plain": [
       "(1032, 9)"
      ]
     },
     "execution_count": 54,
     "metadata": {},
     "output_type": "execute_result"
    }
   ],
   "source": [
    "housing_data.shape"
   ]
  },
  {
   "cell_type": "code",
   "execution_count": 55,
   "metadata": {},
   "outputs": [
    {
     "data": {
      "text/html": [
       "<div>\n",
       "<style scoped>\n",
       "    .dataframe tbody tr th:only-of-type {\n",
       "        vertical-align: middle;\n",
       "    }\n",
       "\n",
       "    .dataframe tbody tr th {\n",
       "        vertical-align: top;\n",
       "    }\n",
       "\n",
       "    .dataframe thead th {\n",
       "        text-align: right;\n",
       "    }\n",
       "</style>\n",
       "<table border=\"1\" class=\"dataframe\">\n",
       "  <thead>\n",
       "    <tr style=\"text-align: right;\">\n",
       "      <th></th>\n",
       "      <th>MedInc</th>\n",
       "      <th>HouseAge</th>\n",
       "      <th>AveRooms</th>\n",
       "      <th>AveBedrms</th>\n",
       "      <th>Population</th>\n",
       "      <th>AveOccup</th>\n",
       "      <th>Latitude</th>\n",
       "      <th>Longitude</th>\n",
       "      <th>MedHouseVal</th>\n",
       "    </tr>\n",
       "  </thead>\n",
       "  <tbody>\n",
       "    <tr>\n",
       "      <th>13366</th>\n",
       "      <td>4.2578</td>\n",
       "      <td>36.0</td>\n",
       "      <td>5.258824</td>\n",
       "      <td>1.117647</td>\n",
       "      <td>2886.0</td>\n",
       "      <td>33.952941</td>\n",
       "      <td>33.94</td>\n",
       "      <td>-117.63</td>\n",
       "      <td>1.833</td>\n",
       "    </tr>\n",
       "    <tr>\n",
       "      <th>6844</th>\n",
       "      <td>2.4599</td>\n",
       "      <td>17.0</td>\n",
       "      <td>3.346580</td>\n",
       "      <td>1.051466</td>\n",
       "      <td>4945.0</td>\n",
       "      <td>3.221498</td>\n",
       "      <td>34.06</td>\n",
       "      <td>-118.12</td>\n",
       "      <td>1.816</td>\n",
       "    </tr>\n",
       "    <tr>\n",
       "      <th>12504</th>\n",
       "      <td>3.7167</td>\n",
       "      <td>45.0</td>\n",
       "      <td>5.531963</td>\n",
       "      <td>1.063927</td>\n",
       "      <td>873.0</td>\n",
       "      <td>1.993151</td>\n",
       "      <td>38.56</td>\n",
       "      <td>-121.44</td>\n",
       "      <td>1.319</td>\n",
       "    </tr>\n",
       "    <tr>\n",
       "      <th>20440</th>\n",
       "      <td>6.4963</td>\n",
       "      <td>6.0</td>\n",
       "      <td>7.799038</td>\n",
       "      <td>1.110096</td>\n",
       "      <td>6700.0</td>\n",
       "      <td>3.221154</td>\n",
       "      <td>34.24</td>\n",
       "      <td>-118.77</td>\n",
       "      <td>3.081</td>\n",
       "    </tr>\n",
       "    <tr>\n",
       "      <th>18344</th>\n",
       "      <td>3.9243</td>\n",
       "      <td>44.0</td>\n",
       "      <td>4.276442</td>\n",
       "      <td>1.008413</td>\n",
       "      <td>1779.0</td>\n",
       "      <td>2.138221</td>\n",
       "      <td>37.42</td>\n",
       "      <td>-122.15</td>\n",
       "      <td>4.048</td>\n",
       "    </tr>\n",
       "  </tbody>\n",
       "</table>\n",
       "</div>"
      ],
      "text/plain": [
       "       MedInc  HouseAge  AveRooms  AveBedrms  Population   AveOccup  Latitude  \\\n",
       "13366  4.2578      36.0  5.258824   1.117647      2886.0  33.952941     33.94   \n",
       "6844   2.4599      17.0  3.346580   1.051466      4945.0   3.221498     34.06   \n",
       "12504  3.7167      45.0  5.531963   1.063927       873.0   1.993151     38.56   \n",
       "20440  6.4963       6.0  7.799038   1.110096      6700.0   3.221154     34.24   \n",
       "18344  3.9243      44.0  4.276442   1.008413      1779.0   2.138221     37.42   \n",
       "\n",
       "       Longitude  MedHouseVal  \n",
       "13366    -117.63        1.833  \n",
       "6844     -118.12        1.816  \n",
       "12504    -121.44        1.319  \n",
       "20440    -118.77        3.081  \n",
       "18344    -122.15        4.048  "
      ]
     },
     "execution_count": 55,
     "metadata": {},
     "output_type": "execute_result"
    }
   ],
   "source": [
    "housing_data.head()"
   ]
  },
  {
   "cell_type": "code",
   "execution_count": 56,
   "metadata": {},
   "outputs": [],
   "source": [
    "housing_data.to_csv('data/raw/housing_data_raw.csv', encoding = 'utf-8-sig', index = False)"
   ]
  },
  {
   "cell_type": "code",
   "execution_count": 57,
   "metadata": {},
   "outputs": [],
   "source": [
    "housing_data.rename(columns={'MedHouseVal': 'target'}, inplace=True)\n",
    "housing_data['prediction'] = housing_data['target'].values + np.random.normal(0, 5, housing_data.shape[0])"
   ]
  },
  {
   "cell_type": "code",
   "execution_count": 58,
   "metadata": {},
   "outputs": [],
   "source": [
    "housing_data.to_csv('data/transform/housing_data_clean.csv', encoding = 'utf-8-sig', index = False)"
   ]
  }
 ],
 "metadata": {
  "kernelspec": {
   "display_name": "Python 3",
   "language": "python",
   "name": "python3"
  },
  "language_info": {
   "codemirror_mode": {
    "name": "ipython",
    "version": 3
   },
   "file_extension": ".py",
   "mimetype": "text/x-python",
   "name": "python",
   "nbconvert_exporter": "python",
   "pygments_lexer": "ipython3",
   "version": "3.12.1"
  }
 },
 "nbformat": 4,
 "nbformat_minor": 2
}
