{
 "cells": [
  {
   "cell_type": "code",
   "execution_count": 29,
   "metadata": {},
   "outputs": [],
   "source": [
    "import pandas as pd\n",
    "import numpy as np\n",
    "from sklearn.datasets import fetch_california_housing\n",
    "import datetime"
   ]
  },
  {
   "cell_type": "code",
   "execution_count": 30,
   "metadata": {},
   "outputs": [],
   "source": [
    "data = fetch_california_housing(as_frame=True)\n",
    "housing_data = data.frame\n",
    "housing_data = housing_data.sample(frac=0.05)"
   ]
  },
  {
   "cell_type": "code",
   "execution_count": 31,
   "metadata": {},
   "outputs": [
    {
     "data": {
      "text/plain": [
       "(1032, 9)"
      ]
     },
     "execution_count": 31,
     "metadata": {},
     "output_type": "execute_result"
    }
   ],
   "source": [
    "housing_data.shape"
   ]
  },
  {
   "cell_type": "code",
   "execution_count": 32,
   "metadata": {},
   "outputs": [
    {
     "data": {
      "text/html": [
       "<div>\n",
       "<style scoped>\n",
       "    .dataframe tbody tr th:only-of-type {\n",
       "        vertical-align: middle;\n",
       "    }\n",
       "\n",
       "    .dataframe tbody tr th {\n",
       "        vertical-align: top;\n",
       "    }\n",
       "\n",
       "    .dataframe thead th {\n",
       "        text-align: right;\n",
       "    }\n",
       "</style>\n",
       "<table border=\"1\" class=\"dataframe\">\n",
       "  <thead>\n",
       "    <tr style=\"text-align: right;\">\n",
       "      <th></th>\n",
       "      <th>MedInc</th>\n",
       "      <th>HouseAge</th>\n",
       "      <th>AveRooms</th>\n",
       "      <th>AveBedrms</th>\n",
       "      <th>Population</th>\n",
       "      <th>AveOccup</th>\n",
       "      <th>Latitude</th>\n",
       "      <th>Longitude</th>\n",
       "      <th>MedHouseVal</th>\n",
       "    </tr>\n",
       "  </thead>\n",
       "  <tbody>\n",
       "    <tr>\n",
       "      <th>8838</th>\n",
       "      <td>2.8889</td>\n",
       "      <td>30.0</td>\n",
       "      <td>3.639582</td>\n",
       "      <td>1.055511</td>\n",
       "      <td>1910.0</td>\n",
       "      <td>1.536605</td>\n",
       "      <td>34.08</td>\n",
       "      <td>-118.38</td>\n",
       "      <td>3.353</td>\n",
       "    </tr>\n",
       "    <tr>\n",
       "      <th>15600</th>\n",
       "      <td>4.2321</td>\n",
       "      <td>17.0</td>\n",
       "      <td>6.323797</td>\n",
       "      <td>1.098830</td>\n",
       "      <td>2266.0</td>\n",
       "      <td>2.946684</td>\n",
       "      <td>32.85</td>\n",
       "      <td>-116.75</td>\n",
       "      <td>2.174</td>\n",
       "    </tr>\n",
       "    <tr>\n",
       "      <th>7162</th>\n",
       "      <td>1.6250</td>\n",
       "      <td>38.0</td>\n",
       "      <td>4.052632</td>\n",
       "      <td>1.073684</td>\n",
       "      <td>402.0</td>\n",
       "      <td>4.231579</td>\n",
       "      <td>34.04</td>\n",
       "      <td>-118.17</td>\n",
       "      <td>1.297</td>\n",
       "    </tr>\n",
       "    <tr>\n",
       "      <th>6091</th>\n",
       "      <td>3.8465</td>\n",
       "      <td>17.0</td>\n",
       "      <td>5.134993</td>\n",
       "      <td>1.064220</td>\n",
       "      <td>4419.0</td>\n",
       "      <td>2.895806</td>\n",
       "      <td>34.10</td>\n",
       "      <td>-117.84</td>\n",
       "      <td>1.807</td>\n",
       "    </tr>\n",
       "    <tr>\n",
       "      <th>19505</th>\n",
       "      <td>3.1480</td>\n",
       "      <td>22.0</td>\n",
       "      <td>5.170543</td>\n",
       "      <td>1.000000</td>\n",
       "      <td>1520.0</td>\n",
       "      <td>3.927649</td>\n",
       "      <td>37.64</td>\n",
       "      <td>-121.03</td>\n",
       "      <td>1.023</td>\n",
       "    </tr>\n",
       "  </tbody>\n",
       "</table>\n",
       "</div>"
      ],
      "text/plain": [
       "       MedInc  HouseAge  AveRooms  AveBedrms  Population  AveOccup  Latitude  \\\n",
       "8838   2.8889      30.0  3.639582   1.055511      1910.0  1.536605     34.08   \n",
       "15600  4.2321      17.0  6.323797   1.098830      2266.0  2.946684     32.85   \n",
       "7162   1.6250      38.0  4.052632   1.073684       402.0  4.231579     34.04   \n",
       "6091   3.8465      17.0  5.134993   1.064220      4419.0  2.895806     34.10   \n",
       "19505  3.1480      22.0  5.170543   1.000000      1520.0  3.927649     37.64   \n",
       "\n",
       "       Longitude  MedHouseVal  \n",
       "8838     -118.38        3.353  \n",
       "15600    -116.75        2.174  \n",
       "7162     -118.17        1.297  \n",
       "6091     -117.84        1.807  \n",
       "19505    -121.03        1.023  "
      ]
     },
     "execution_count": 32,
     "metadata": {},
     "output_type": "execute_result"
    }
   ],
   "source": [
    "housing_data.head()"
   ]
  },
  {
   "cell_type": "code",
   "execution_count": 33,
   "metadata": {},
   "outputs": [],
   "source": [
    "housing_data.to_csv('data/raw/housing_data_raw.csv', encoding = 'utf-8-sig', index = False)"
   ]
  },
  {
   "cell_type": "code",
   "execution_count": 34,
   "metadata": {},
   "outputs": [],
   "source": [
    "housing_data.rename(columns={'MedHouseVal': 'target'}, inplace=True)\n",
    "housing_data['prediction'] = housing_data['target'].values + np.random.normal(0, 5, housing_data.shape[0])"
   ]
  },
  {
   "cell_type": "code",
   "execution_count": 35,
   "metadata": {},
   "outputs": [],
   "source": [
    "housing_data.to_csv('data/transform/housing_data_clean.csv', encoding = 'utf-8-sig', index = False)"
   ]
  }
 ],
 "metadata": {
  "kernelspec": {
   "display_name": "Python 3",
   "language": "python",
   "name": "python3"
  },
  "language_info": {
   "codemirror_mode": {
    "name": "ipython",
    "version": 3
   },
   "file_extension": ".py",
   "mimetype": "text/x-python",
   "name": "python",
   "nbconvert_exporter": "python",
   "pygments_lexer": "ipython3",
   "version": "3.12.1"
  }
 },
 "nbformat": 4,
 "nbformat_minor": 2
}
