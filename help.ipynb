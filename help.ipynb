{
 "cells": [
  {
   "cell_type": "code",
   "execution_count": 1,
   "metadata": {},
   "outputs": [],
   "source": [
    "import pandas as pd\n",
    "import numpy as np\n",
    "from sklearn.datasets import fetch_california_housing\n",
    "import datetime"
   ]
  },
  {
   "cell_type": "code",
   "execution_count": 2,
   "metadata": {},
   "outputs": [],
   "source": [
    "data = fetch_california_housing(as_frame=True)\n",
    "housing_data = data.frame\n",
    "housing_data = housing_data.sample(frac=0.05)"
   ]
  },
  {
   "cell_type": "code",
   "execution_count": 3,
   "metadata": {},
   "outputs": [
    {
     "data": {
      "text/plain": [
       "(1032, 9)"
      ]
     },
     "execution_count": 3,
     "metadata": {},
     "output_type": "execute_result"
    }
   ],
   "source": [
    "housing_data.shape"
   ]
  },
  {
   "cell_type": "code",
   "execution_count": 4,
   "metadata": {},
   "outputs": [
    {
     "data": {
      "text/html": [
       "<div>\n",
       "<style scoped>\n",
       "    .dataframe tbody tr th:only-of-type {\n",
       "        vertical-align: middle;\n",
       "    }\n",
       "\n",
       "    .dataframe tbody tr th {\n",
       "        vertical-align: top;\n",
       "    }\n",
       "\n",
       "    .dataframe thead th {\n",
       "        text-align: right;\n",
       "    }\n",
       "</style>\n",
       "<table border=\"1\" class=\"dataframe\">\n",
       "  <thead>\n",
       "    <tr style=\"text-align: right;\">\n",
       "      <th></th>\n",
       "      <th>MedInc</th>\n",
       "      <th>HouseAge</th>\n",
       "      <th>AveRooms</th>\n",
       "      <th>AveBedrms</th>\n",
       "      <th>Population</th>\n",
       "      <th>AveOccup</th>\n",
       "      <th>Latitude</th>\n",
       "      <th>Longitude</th>\n",
       "      <th>MedHouseVal</th>\n",
       "    </tr>\n",
       "  </thead>\n",
       "  <tbody>\n",
       "    <tr>\n",
       "      <th>14124</th>\n",
       "      <td>1.5029</td>\n",
       "      <td>20.0</td>\n",
       "      <td>3.592381</td>\n",
       "      <td>1.116190</td>\n",
       "      <td>1134.0</td>\n",
       "      <td>2.160000</td>\n",
       "      <td>32.75</td>\n",
       "      <td>-117.08</td>\n",
       "      <td>1.000</td>\n",
       "    </tr>\n",
       "    <tr>\n",
       "      <th>16154</th>\n",
       "      <td>3.5865</td>\n",
       "      <td>52.0</td>\n",
       "      <td>5.650485</td>\n",
       "      <td>1.186408</td>\n",
       "      <td>1508.0</td>\n",
       "      <td>2.928155</td>\n",
       "      <td>37.78</td>\n",
       "      <td>-122.48</td>\n",
       "      <td>3.114</td>\n",
       "    </tr>\n",
       "    <tr>\n",
       "      <th>12911</th>\n",
       "      <td>6.2440</td>\n",
       "      <td>31.0</td>\n",
       "      <td>6.828947</td>\n",
       "      <td>0.942982</td>\n",
       "      <td>1121.0</td>\n",
       "      <td>2.458333</td>\n",
       "      <td>38.62</td>\n",
       "      <td>-121.31</td>\n",
       "      <td>2.400</td>\n",
       "    </tr>\n",
       "    <tr>\n",
       "      <th>19404</th>\n",
       "      <td>2.4211</td>\n",
       "      <td>22.0</td>\n",
       "      <td>5.046512</td>\n",
       "      <td>1.034884</td>\n",
       "      <td>195.0</td>\n",
       "      <td>2.267442</td>\n",
       "      <td>37.71</td>\n",
       "      <td>-120.98</td>\n",
       "      <td>2.688</td>\n",
       "    </tr>\n",
       "    <tr>\n",
       "      <th>15483</th>\n",
       "      <td>2.3062</td>\n",
       "      <td>15.0</td>\n",
       "      <td>4.930876</td>\n",
       "      <td>0.958525</td>\n",
       "      <td>470.0</td>\n",
       "      <td>2.165899</td>\n",
       "      <td>33.14</td>\n",
       "      <td>-117.15</td>\n",
       "      <td>1.589</td>\n",
       "    </tr>\n",
       "  </tbody>\n",
       "</table>\n",
       "</div>"
      ],
      "text/plain": [
       "       MedInc  HouseAge  AveRooms  AveBedrms  Population  AveOccup  Latitude  \\\n",
       "14124  1.5029      20.0  3.592381   1.116190      1134.0  2.160000     32.75   \n",
       "16154  3.5865      52.0  5.650485   1.186408      1508.0  2.928155     37.78   \n",
       "12911  6.2440      31.0  6.828947   0.942982      1121.0  2.458333     38.62   \n",
       "19404  2.4211      22.0  5.046512   1.034884       195.0  2.267442     37.71   \n",
       "15483  2.3062      15.0  4.930876   0.958525       470.0  2.165899     33.14   \n",
       "\n",
       "       Longitude  MedHouseVal  \n",
       "14124    -117.08        1.000  \n",
       "16154    -122.48        3.114  \n",
       "12911    -121.31        2.400  \n",
       "19404    -120.98        2.688  \n",
       "15483    -117.15        1.589  "
      ]
     },
     "execution_count": 4,
     "metadata": {},
     "output_type": "execute_result"
    }
   ],
   "source": [
    "housing_data.head()"
   ]
  },
  {
   "cell_type": "code",
   "execution_count": 5,
   "metadata": {},
   "outputs": [
    {
     "data": {
      "text/plain": [
       "(1032, 9)"
      ]
     },
     "execution_count": 5,
     "metadata": {},
     "output_type": "execute_result"
    }
   ],
   "source": [
    "housing_data.shape"
   ]
  },
  {
   "cell_type": "code",
   "execution_count": 6,
   "metadata": {},
   "outputs": [],
   "source": [
    "housing_data.to_csv('data/raw/housing_data_raw.csv', encoding = 'utf-8-sig', index = False)"
   ]
  },
  {
   "cell_type": "code",
   "execution_count": 7,
   "metadata": {},
   "outputs": [],
   "source": [
    "housing_data.rename(columns={'MedHouseVal': 'target'}, inplace=True)\n",
    "housing_data['prediction'] = housing_data['target'].values + np.random.normal(0, 5, housing_data.shape[0])"
   ]
  },
  {
   "cell_type": "code",
   "execution_count": 8,
   "metadata": {},
   "outputs": [
    {
     "data": {
      "text/html": [
       "<div>\n",
       "<style scoped>\n",
       "    .dataframe tbody tr th:only-of-type {\n",
       "        vertical-align: middle;\n",
       "    }\n",
       "\n",
       "    .dataframe tbody tr th {\n",
       "        vertical-align: top;\n",
       "    }\n",
       "\n",
       "    .dataframe thead th {\n",
       "        text-align: right;\n",
       "    }\n",
       "</style>\n",
       "<table border=\"1\" class=\"dataframe\">\n",
       "  <thead>\n",
       "    <tr style=\"text-align: right;\">\n",
       "      <th></th>\n",
       "      <th>MedInc</th>\n",
       "      <th>HouseAge</th>\n",
       "      <th>AveRooms</th>\n",
       "      <th>AveBedrms</th>\n",
       "      <th>Population</th>\n",
       "      <th>AveOccup</th>\n",
       "      <th>Latitude</th>\n",
       "      <th>Longitude</th>\n",
       "      <th>target</th>\n",
       "      <th>prediction</th>\n",
       "    </tr>\n",
       "  </thead>\n",
       "  <tbody>\n",
       "    <tr>\n",
       "      <th>14124</th>\n",
       "      <td>1.5029</td>\n",
       "      <td>20.0</td>\n",
       "      <td>3.592381</td>\n",
       "      <td>1.116190</td>\n",
       "      <td>1134.0</td>\n",
       "      <td>2.160000</td>\n",
       "      <td>32.75</td>\n",
       "      <td>-117.08</td>\n",
       "      <td>1.000</td>\n",
       "      <td>3.695239</td>\n",
       "    </tr>\n",
       "    <tr>\n",
       "      <th>16154</th>\n",
       "      <td>3.5865</td>\n",
       "      <td>52.0</td>\n",
       "      <td>5.650485</td>\n",
       "      <td>1.186408</td>\n",
       "      <td>1508.0</td>\n",
       "      <td>2.928155</td>\n",
       "      <td>37.78</td>\n",
       "      <td>-122.48</td>\n",
       "      <td>3.114</td>\n",
       "      <td>5.627609</td>\n",
       "    </tr>\n",
       "    <tr>\n",
       "      <th>12911</th>\n",
       "      <td>6.2440</td>\n",
       "      <td>31.0</td>\n",
       "      <td>6.828947</td>\n",
       "      <td>0.942982</td>\n",
       "      <td>1121.0</td>\n",
       "      <td>2.458333</td>\n",
       "      <td>38.62</td>\n",
       "      <td>-121.31</td>\n",
       "      <td>2.400</td>\n",
       "      <td>1.104713</td>\n",
       "    </tr>\n",
       "    <tr>\n",
       "      <th>19404</th>\n",
       "      <td>2.4211</td>\n",
       "      <td>22.0</td>\n",
       "      <td>5.046512</td>\n",
       "      <td>1.034884</td>\n",
       "      <td>195.0</td>\n",
       "      <td>2.267442</td>\n",
       "      <td>37.71</td>\n",
       "      <td>-120.98</td>\n",
       "      <td>2.688</td>\n",
       "      <td>-2.662584</td>\n",
       "    </tr>\n",
       "    <tr>\n",
       "      <th>15483</th>\n",
       "      <td>2.3062</td>\n",
       "      <td>15.0</td>\n",
       "      <td>4.930876</td>\n",
       "      <td>0.958525</td>\n",
       "      <td>470.0</td>\n",
       "      <td>2.165899</td>\n",
       "      <td>33.14</td>\n",
       "      <td>-117.15</td>\n",
       "      <td>1.589</td>\n",
       "      <td>-1.445948</td>\n",
       "    </tr>\n",
       "  </tbody>\n",
       "</table>\n",
       "</div>"
      ],
      "text/plain": [
       "       MedInc  HouseAge  AveRooms  AveBedrms  Population  AveOccup  Latitude  \\\n",
       "14124  1.5029      20.0  3.592381   1.116190      1134.0  2.160000     32.75   \n",
       "16154  3.5865      52.0  5.650485   1.186408      1508.0  2.928155     37.78   \n",
       "12911  6.2440      31.0  6.828947   0.942982      1121.0  2.458333     38.62   \n",
       "19404  2.4211      22.0  5.046512   1.034884       195.0  2.267442     37.71   \n",
       "15483  2.3062      15.0  4.930876   0.958525       470.0  2.165899     33.14   \n",
       "\n",
       "       Longitude  target  prediction  \n",
       "14124    -117.08   1.000    3.695239  \n",
       "16154    -122.48   3.114    5.627609  \n",
       "12911    -121.31   2.400    1.104713  \n",
       "19404    -120.98   2.688   -2.662584  \n",
       "15483    -117.15   1.589   -1.445948  "
      ]
     },
     "execution_count": 8,
     "metadata": {},
     "output_type": "execute_result"
    }
   ],
   "source": [
    "housing_data.head()"
   ]
  },
  {
   "cell_type": "code",
   "execution_count": 9,
   "metadata": {},
   "outputs": [],
   "source": [
    "housing_data.to_csv('data/transform/housing_data_clean.csv', encoding = 'utf-8-sig', index = False)"
   ]
  },
  {
   "cell_type": "code",
   "execution_count": 10,
   "metadata": {},
   "outputs": [
    {
     "data": {
      "text/plain": [
       "(1032, 10)"
      ]
     },
     "execution_count": 10,
     "metadata": {},
     "output_type": "execute_result"
    }
   ],
   "source": [
    "housing_data.shape"
   ]
  }
 ],
 "metadata": {
  "kernelspec": {
   "display_name": "Python 3",
   "language": "python",
   "name": "python3"
  },
  "language_info": {
   "codemirror_mode": {
    "name": "ipython",
    "version": 3
   },
   "file_extension": ".py",
   "mimetype": "text/x-python",
   "name": "python",
   "nbconvert_exporter": "python",
   "pygments_lexer": "ipython3",
   "version": "3.12.1"
  }
 },
 "nbformat": 4,
 "nbformat_minor": 2
}
